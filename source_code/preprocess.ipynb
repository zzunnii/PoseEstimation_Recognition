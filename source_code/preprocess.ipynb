{
 "cells": [
  {
   "metadata": {
    "ExecuteTime": {
     "end_time": "2024-12-01T09:24:09.903489Z",
     "start_time": "2024-12-01T08:43:45.476785Z"
    }
   },
   "cell_type": "code",
   "source": [
    "import os\n",
    "import json\n",
    "import pandas as pd\n",
    "from tqdm import tqdm\n",
    "\n",
    "def convert_json_to_csv(json_path):\n",
    "    \"\"\"JSON 파일을 DataFrame으로 변환\"\"\"\n",
    "    with open(json_path, 'r', encoding='utf-8') as f:\n",
    "        data = json.load(f)\n",
    "    \n",
    "    # JSON 데이터를 평탄화하여 DataFrame으로 변환\n",
    "    df = pd.json_normalize(data)\n",
    "    return df\n",
    "\n",
    "def collect_json_files(base_dir):\n",
    "    \"\"\"디렉토리에서 모든 JSON 파일 경로 수집\"\"\"\n",
    "    json_files = []\n",
    "    for root, dirs, files in os.walk(base_dir):\n",
    "        for file in files:\n",
    "            if file.endswith('.json'):\n",
    "                json_files.append(os.path.join(root, file))\n",
    "    return json_files\n",
    "\n",
    "# 경로 설정\n",
    "train_dir = r\"C:\\Users\\tjdwn\\OneDrive\\Desktop\\169-1.한국인 신체 3D 스캐닝 데이터\\01-1.정식개방데이터\\Training\"\n",
    "val_dir = r\"C:\\Users\\tjdwn\\OneDrive\\Desktop\\169-1.한국인 신체 3D 스캐닝 데이터\\01-1.정식개방데이터\\Validation\"\n",
    "\n",
    "print(\"Collecting JSON files...\")\n",
    "# JSON 파일 수집\n",
    "train_jsons = collect_json_files(train_dir)\n",
    "val_jsons = collect_json_files(val_dir)\n",
    "\n",
    "print(f\"Found {len(train_jsons)} training JSON files and {len(val_jsons)} validation JSON files\")\n",
    "\n",
    "# 학습 데이터 처리\n",
    "print(\"\\nProcessing training data...\")\n",
    "train_dfs = []\n",
    "for json_path in tqdm(train_jsons, desc=\"Converting training JSONs\"):\n",
    "    try:\n",
    "        df = convert_json_to_csv(json_path)\n",
    "        train_dfs.append(df)\n",
    "    except Exception as e:\n",
    "        print(f\"Error processing {json_path}: {str(e)}\")\n",
    "\n",
    "# 검증 데이터 처리\n",
    "print(\"\\nProcessing validation data...\")\n",
    "val_dfs = []\n",
    "for json_path in tqdm(val_jsons, desc=\"Converting validation JSONs\"):\n",
    "    try:\n",
    "        df = convert_json_to_csv(json_path)\n",
    "        val_dfs.append(df)\n",
    "    except Exception as e:\n",
    "        print(f\"Error processing {json_path}: {str(e)}\")\n",
    "\n",
    "# DataFrame 결합\n",
    "print(\"\\nCombining DataFrames...\")\n",
    "train_df = pd.concat(train_dfs, ignore_index=True)\n",
    "val_df = pd.concat(val_dfs, ignore_index=True)\n",
    "\n",
    "# CSV로 저장\n",
    "print(\"\\nSaving to CSV...\")\n",
    "train_df.to_csv('training_data.csv', index=False)\n",
    "val_df.to_csv('validation_data.csv', index=False)\n",
    "\n",
    "print(\"\\nDone!\")\n",
    "print(f\"Training data shape: {train_df.shape}\")\n",
    "print(f\"Validation data shape: {val_df.shape}\")"
   ],
   "id": "8c3203cfe5d7a075",
   "outputs": [
    {
     "name": "stdout",
     "output_type": "stream",
     "text": [
      "Collecting JSON files...\n",
      "Found 313760 training JSON files and 39220 validation JSON files\n",
      "\n",
      "Processing training data...\n"
     ]
    },
    {
     "name": "stderr",
     "output_type": "stream",
     "text": [
      "Converting training JSONs: 100%|██████████| 313760/313760 [31:11<00:00, 167.66it/s] \n"
     ]
    },
    {
     "name": "stdout",
     "output_type": "stream",
     "text": [
      "\n",
      "Processing validation data...\n"
     ]
    },
    {
     "name": "stderr",
     "output_type": "stream",
     "text": [
      "Converting validation JSONs: 100%|██████████| 39220/39220 [03:36<00:00, 181.29it/s]\n"
     ]
    },
    {
     "name": "stdout",
     "output_type": "stream",
     "text": [
      "\n",
      "Combining DataFrames...\n",
      "\n",
      "Saving to CSV...\n",
      "\n",
      "Done!\n",
      "Training data shape: (313760, 56)\n",
      "Validation data shape: (39220, 56)\n"
     ]
    }
   ],
   "execution_count": 1
  },
  {
   "metadata": {},
   "cell_type": "code",
   "outputs": [],
   "execution_count": null,
   "source": "",
   "id": "5816adabd489fb16"
  }
 ],
 "metadata": {
  "kernelspec": {
   "display_name": "Python 3",
   "language": "python",
   "name": "python3"
  },
  "language_info": {
   "codemirror_mode": {
    "name": "ipython",
    "version": 2
   },
   "file_extension": ".py",
   "mimetype": "text/x-python",
   "name": "python",
   "nbconvert_exporter": "python",
   "pygments_lexer": "ipython2",
   "version": "2.7.6"
  }
 },
 "nbformat": 4,
 "nbformat_minor": 5
}
